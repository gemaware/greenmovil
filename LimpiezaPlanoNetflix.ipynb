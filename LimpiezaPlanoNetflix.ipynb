{
  "nbformat": 4,
  "nbformat_minor": 0,
  "metadata": {
    "colab": {
      "provenance": [],
      "authorship_tag": "ABX9TyNIUxr3FjUK8QgU3yz7Mito",
      "include_colab_link": true
    },
    "kernelspec": {
      "name": "python3",
      "display_name": "Python 3"
    },
    "language_info": {
      "name": "python"
    }
  },
  "cells": [
    {
      "cell_type": "markdown",
      "metadata": {
        "id": "view-in-github",
        "colab_type": "text"
      },
      "source": [
        "<a href=\"https://colab.research.google.com/github/gemaware/greenmovil/blob/main/LimpiezaPlanoNetflix.ipynb\" target=\"_parent\"><img src=\"https://colab.research.google.com/assets/colab-badge.svg\" alt=\"Open In Colab\"/></a>"
      ]
    },
    {
      "cell_type": "code",
      "execution_count": 49,
      "metadata": {
        "colab": {
          "base_uri": "https://localhost:8080/"
        },
        "id": "9YFOGEELUWFV",
        "outputId": "7be221b2-4514-4224-a9ef-35d22b7a1e63"
      },
      "outputs": [
        {
          "output_type": "stream",
          "name": "stdout",
          "text": [
            "Sin duracion definida\n"
          ]
        }
      ],
      "source": [
        "import pandas as pd\n",
        "\n",
        "# Definir el path del archivo CSV crudo\n",
        "file_path = '/content/netflix_titles.csv'\n",
        "\n",
        "# Leer el archivo como texto, manejando la codificación a utf-8 para controlar y reemplazar\n",
        "# caracteres especiales\n",
        "with open(file_path, 'r', encoding='utf-8', errors='replace') as f:\n",
        "    # Leer todo el contenido del archivo\n",
        "    content = f.read()\n",
        "\n",
        "# Escribir el contenido limpio en un nuevo archivo temporal\n",
        "from io import StringIO\n",
        "data = StringIO(content)\n",
        "\n",
        "netflix_data = pd.read_csv(data) #paso a pandas dataframe\n",
        "\n",
        "\n",
        "# pasar a dataframe copia para limpieza\n",
        "netflix_data_clean = netflix_data[['show_id', 'type', 'title', 'director', 'cast', 'country', 'date_added',\n",
        "                                   'release_year', 'rating', 'duration', 'listed_in', 'description']].copy()\n",
        "\n",
        "\n",
        "################################ TRANSFORMACIONES DE LIMPIEZA ##############################################\n",
        "\n",
        "# Diccionario de reemplazo para caracteres mal decodificados y especiales\n",
        "replace_dict = {\n",
        "    'Ã©': 'é', 'Ã¡': 'á', 'Ã³': 'ó', 'Ãº': 'ú', 'Ã': 'Á', 'Ã­': 'í', 'Ãñ': 'ñ', 'Ãè': 'è', 'Ã ': 'à',\n",
        "    'Ãç': 'ç', 'Ã¢': 'â', 'Ã£': 'ã', 'Ã¼': 'ü', 'Ãª': 'ê', 'Ã“': 'Ó', 'Ã‰': 'É', 'Ã': 'a', '©': 'c',\n",
        "    '¬': '', '¤': '', '¡': '', '¿': '', '¶': '', '®': '', '°': '', '¦': '', '¸': '', '¨': '', '¥': '',\n",
        "    '£': '', '¡': '', '«': '', '»': '', '·': '', '§': '', '¯': '', '\\xa0': '', '±': '', '\\xad': '',\n",
        "    '\\n': ' ', '&': 'and', \"'\": '', '/': ' ', '*': '', '~': '', '@': 'at', '.': '', '?': '', '-': ' ',\n",
        "    '\"': '', ':': '', '(': '', ')': '', '©': '', '¶': '', '‘': '', '%': '', '’': '', '้': '',\n",
        "    '”': '', '่': '', '„': '', '\\u200b': '', '์': '', '“': '', '!': '', '+': '', '–': '', '…': '',\n",
        "    '#': '', '=': '', '|': '', '_': ''\n",
        "}\n",
        "\n",
        "\n",
        "# Función para limpiar cualquier columna de texto reemplazando caracteres mal decodificados y especiales\n",
        "def clean_text(text):\n",
        "    if isinstance(text, str):  # Verificamos si el valor es un string antes de aplicar el replace\n",
        "        # Aplicar reemplazos de caracteres mal decodificados y especiales\n",
        "        for char, replacement in replace_dict.items():\n",
        "            text = text.replace(char, replacement)\n",
        "        return text.strip()\n",
        "    else:\n",
        "        return text  # Si no es string (por ejemplo, NaN), lo dejamos como está\n",
        "\n",
        "# Aplicar la función de limpieza de caracteres especiales y anomalos a las columnas\n",
        "netflix_data_clean['title'] = netflix_data_clean['title'].apply(clean_text)\n",
        "netflix_data_clean['director'] = netflix_data_clean['director'].apply(clean_text)\n",
        "netflix_data_clean['cast'] = netflix_data_clean['cast'].apply(clean_text)\n",
        "netflix_data_clean['country'] = netflix_data_clean['country'].apply(clean_text)\n",
        "netflix_data_clean['release_year'] = netflix_data_clean['release_year'].apply(clean_text)\n",
        "netflix_data_clean['rating'] = netflix_data_clean['rating'].apply(clean_text)\n",
        "netflix_data_clean['duration'] = netflix_data_clean['duration'].apply(clean_text)\n",
        "\n",
        "\n",
        "# Convertir la columna 'date_added' al formato DD/MM/YYYY para facilitar la analitica posteriormente\n",
        "netflix_data_clean['date_added'] = pd.to_datetime(netflix_data_clean['date_added'], format='%B %d, %Y', errors='coerce').dt.strftime('%d/%m/%Y')\n",
        "\n",
        "# Rellenar los valores nulos o vacíos en la columna 'title' con \"Sin título definido\"\n",
        "netflix_data_clean['title'] = netflix_data_clean['title'].fillna(\"Sin título definido\")\n",
        "netflix_data_clean['title'] = netflix_data_clean['title'].apply(lambda x: \"Sin título definido\" if x == \"\" else x)\n",
        "\n",
        "# Rellenar los valores nulos o vacíos en la columna 'director' con \"Sin director definido\"\n",
        "netflix_data_clean['director'] = netflix_data_clean['director'].fillna(\"Sin director definido\")\n",
        "netflix_data_clean['director'] = netflix_data_clean['director'].apply(lambda x: \"Sin director definido\" if x == \"\" else x)\n",
        "\n",
        "# Rellenar los valores nulos o vacíos en la columna 'country' con \"Sin pais definido\"\n",
        "netflix_data_clean['country'] = netflix_data_clean['country'].fillna(\"Sin pais definido\")\n",
        "netflix_data_clean['country'] = netflix_data_clean['country'].apply(lambda x: \"Sin pais definido\" if x == \"\" else x)\n",
        "\n",
        "# Rellenar los valores nulos o vacíos en la columna 'cast' con \"Sin reparto definido\"\n",
        "netflix_data_clean['cast'] = netflix_data_clean['cast'].fillna(\"Sin resparto definido\")\n",
        "netflix_data_clean['cast'] = netflix_data_clean['cast'].apply(lambda x: \"Sin reparto definido\" if x == \"\" else x)\n",
        "\n",
        "# Rellenar los valores nulos o vacíos en la columna 'listed_in' con \"Sin categoria definida\"\n",
        "netflix_data_clean['listed_in'] = netflix_data_clean['listed_in'].fillna(\"Sin categoria definida\")\n",
        "netflix_data_clean['listed_in'] = netflix_data_clean['listed_in'].apply(lambda x: \"Sin categoria definida\" if x == \"\" else x)\n",
        "\n",
        "# Rellenar los valores nulos o vacíos en la columna 'duration' con \"Sin duracion definida\"\n",
        "netflix_data_clean['duration'] = netflix_data_clean['duration'].fillna(\"Sin duracion definida\")\n",
        "netflix_data_clean['duration'] = netflix_data_clean['duration'].apply(lambda x: \"Sin duracion definida\" if x == \"\" else x)\n",
        "\n",
        "######################################################################################################################\n",
        "\n",
        "################################### EXPORTAR EL ARCHIVO FINAL ##########################################################\n",
        "#archivo final resultado de la limpieza\n",
        "#listo para procesos de analitica o extraccion hacia base de datos o data lake\n",
        "netflix_data_clean.to_excel('netflix_titles_clean.xlsx', index=False)\n",
        "########################################################################################################################\n",
        "\n",
        "\n",
        "\n",
        "\n",
        "\n"
      ]
    }
  ]
}